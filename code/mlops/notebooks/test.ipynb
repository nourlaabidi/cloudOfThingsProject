{
 "cells": [
  {
   "cell_type": "code",
   "execution_count": 1,
   "metadata": {},
   "outputs": [],
   "source": [
    "import pandas as pd\n",
    "\n",
    "from joblib import load\n",
    "from sklearn.metrics import accuracy_score,classification_report,f1_score\n",
    "\n",
    "import json\n",
    "import os"
   ]
  },
  {
   "cell_type": "code",
   "execution_count": 2,
   "metadata": {},
   "outputs": [],
   "source": [
    "# Set path for the input (model)\n",
    "MODEL_DIR = \"../model/\"\n",
    "model_file = 'Xgboost_model.joblib'\n",
    "model_path = MODEL_DIR + model_file\n",
    "\n",
    "# Set path for the input (test data)\n",
    "PROCESSED_DATA_DIR = \"../data/processed/\"\n",
    "test_data_file = 'test.csv'\n",
    "test_data_path = PROCESSED_DATA_DIR +test_data_file"
   ]
  },
  {
   "cell_type": "code",
   "execution_count": 3,
   "metadata": {},
   "outputs": [],
   "source": [
    "# Load model\n",
    "Xgboost_model = load(model_path)"
   ]
  },
  {
   "cell_type": "code",
   "execution_count": 4,
   "metadata": {},
   "outputs": [],
   "source": [
    "# Load data\n",
    "df = pd.read_csv(test_data_path, sep=\",\")\n",
    "\n",
    "\n",
    "# Split data into dependent and independent variables\n",
    "X_test = df.drop('Status', axis=1)\n",
    "y_test = df['Status']"
   ]
  },
  {
   "cell_type": "code",
   "execution_count": 5,
   "metadata": {},
   "outputs": [],
   "source": [
    "# Predict\n",
    "model_predictions = Xgboost_model.predict(X_test)"
   ]
  },
  {
   "cell_type": "code",
   "execution_count": 6,
   "metadata": {},
   "outputs": [],
   "source": [
    "# Compute test accuracy\n",
    "test_acc = accuracy_score(y_test,model_predictions)\n",
    "test_f1_score = f1_score(y_test,model_predictions)\n",
    "test_report= classification_report(y_test,model_predictions)"
   ]
  },
  {
   "cell_type": "code",
   "execution_count": 7,
   "metadata": {},
   "outputs": [],
   "source": [
    "# Test accuracy to JSON\n",
    "test_metadata = {\n",
    "    'test_acc': test_acc,\n",
    "    'test_f1_score': test_f1_score,\n",
    "    'test_report': test_report\n",
    "}"
   ]
  },
  {
   "cell_type": "code",
   "execution_count": 8,
   "metadata": {},
   "outputs": [],
   "source": [
    "# Set output path\n",
    "RESULTS_DIR = \"../results/\"\n",
    "test_results_file = 'test_metadata.json'\n",
    "results_path = RESULTS_DIR + test_results_file\n",
    "\n",
    "# Serialize and save metadata\n",
    "with open(results_path, 'w') as outfile:\n",
    "    json.dump(test_metadata, outfile)"
   ]
  },
  {
   "cell_type": "code",
   "execution_count": null,
   "metadata": {},
   "outputs": [],
   "source": []
  }
 ],
 "metadata": {
  "kernelspec": {
   "display_name": ".venv",
   "language": "python",
   "name": "python3"
  },
  "language_info": {
   "codemirror_mode": {
    "name": "ipython",
    "version": 3
   },
   "file_extension": ".py",
   "mimetype": "text/x-python",
   "name": "python",
   "nbconvert_exporter": "python",
   "pygments_lexer": "ipython3",
   "version": "3.12.2"
  }
 },
 "nbformat": 4,
 "nbformat_minor": 2
}
