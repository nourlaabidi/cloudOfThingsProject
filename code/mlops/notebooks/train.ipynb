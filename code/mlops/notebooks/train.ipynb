{
 "cells": [
  {
   "cell_type": "code",
   "execution_count": 1,
   "metadata": {},
   "outputs": [],
   "source": [
    "import pandas as pd\n",
    "\n",
    "import json\n",
    "import os\n",
    "from joblib import dump\n",
    "from sklearn.model_selection import StratifiedKFold, cross_val_score\n",
    "from xgboost import XGBClassifier"
   ]
  },
  {
   "cell_type": "code",
   "execution_count": 2,
   "metadata": {},
   "outputs": [],
   "source": [
    "# Set path to inputs\n",
    "PROCESSED_DATA_DIR = \"../data/processed/\"\n",
    "train_data_file = 'train.csv'\n",
    "train_data_path = PROCESSED_DATA_DIR + train_data_file"
   ]
  },
  {
   "cell_type": "code",
   "execution_count": 3,
   "metadata": {},
   "outputs": [
    {
     "data": {
      "text/html": [
       "<div>\n",
       "<style scoped>\n",
       "    .dataframe tbody tr th:only-of-type {\n",
       "        vertical-align: middle;\n",
       "    }\n",
       "\n",
       "    .dataframe tbody tr th {\n",
       "        vertical-align: top;\n",
       "    }\n",
       "\n",
       "    .dataframe thead th {\n",
       "        text-align: right;\n",
       "    }\n",
       "</style>\n",
       "<table border=\"1\" class=\"dataframe\">\n",
       "  <thead>\n",
       "    <tr style=\"text-align: right;\">\n",
       "      <th></th>\n",
       "      <th>0</th>\n",
       "      <th>1</th>\n",
       "      <th>2</th>\n",
       "      <th>Status</th>\n",
       "    </tr>\n",
       "  </thead>\n",
       "  <tbody>\n",
       "    <tr>\n",
       "      <th>0</th>\n",
       "      <td>0.789260</td>\n",
       "      <td>-0.342314</td>\n",
       "      <td>0.881616</td>\n",
       "      <td>0</td>\n",
       "    </tr>\n",
       "    <tr>\n",
       "      <th>1</th>\n",
       "      <td>-1.134270</td>\n",
       "      <td>1.166974</td>\n",
       "      <td>-0.204853</td>\n",
       "      <td>1</td>\n",
       "    </tr>\n",
       "    <tr>\n",
       "      <th>2</th>\n",
       "      <td>-0.441799</td>\n",
       "      <td>-0.266850</td>\n",
       "      <td>-0.136949</td>\n",
       "      <td>1</td>\n",
       "    </tr>\n",
       "    <tr>\n",
       "      <th>3</th>\n",
       "      <td>1.635614</td>\n",
       "      <td>-0.115921</td>\n",
       "      <td>0.474190</td>\n",
       "      <td>0</td>\n",
       "    </tr>\n",
       "    <tr>\n",
       "      <th>4</th>\n",
       "      <td>1.597143</td>\n",
       "      <td>1.317902</td>\n",
       "      <td>-1.630844</td>\n",
       "      <td>0</td>\n",
       "    </tr>\n",
       "  </tbody>\n",
       "</table>\n",
       "</div>"
      ],
      "text/plain": [
       "          0         1         2  Status\n",
       "0  0.789260 -0.342314  0.881616       0\n",
       "1 -1.134270  1.166974 -0.204853       1\n",
       "2 -0.441799 -0.266850 -0.136949       1\n",
       "3  1.635614 -0.115921  0.474190       0\n",
       "4  1.597143  1.317902 -1.630844       0"
      ]
     },
     "execution_count": 3,
     "metadata": {},
     "output_type": "execute_result"
    }
   ],
   "source": [
    "# Read data\n",
    "df = pd.read_csv(train_data_path, sep=\",\")\n",
    "df.head()"
   ]
  },
  {
   "cell_type": "code",
   "execution_count": 4,
   "metadata": {},
   "outputs": [],
   "source": [
    "# Split data into features and target variables\n",
    "X_train = df.drop('Status', axis=1)\n",
    "y_train = df['Status']\n",
    "\n",
    "# Model \n",
    "Xgboost_model= XGBClassifier(random_state=21,n_estimators=200,max_depth=5,learning_rate=0.2)\n",
    "Xgboost_model= Xgboost_model.fit(X_train,y_train)"
   ]
  },
  {
   "cell_type": "code",
   "execution_count": 5,
   "metadata": {},
   "outputs": [],
   "source": [
    "#cross validation\n",
    "cv = StratifiedKFold(n_splits=3) \n",
    "val_model = cross_val_score(Xgboost_model, X_train, y_train, cv=cv).mean()\n",
    "\n",
    "# Validation accuracy to JSON\n",
    "train_metadata = {\n",
    "    'validation_acc': val_model\n",
    "}"
   ]
  },
  {
   "cell_type": "code",
   "execution_count": 6,
   "metadata": {},
   "outputs": [
    {
     "data": {
      "text/plain": [
       "['../model/Xgboost_model.joblib']"
      ]
     },
     "execution_count": 6,
     "metadata": {},
     "output_type": "execute_result"
    }
   ],
   "source": [
    "# Set path to output (model)\n",
    "MODEL_DIR = \"../model/\"\n",
    "model_name = 'Xgboost_model.joblib'\n",
    "model_path = MODEL_DIR+ model_name\n",
    "\n",
    "# Serialize and save model\n",
    "dump(Xgboost_model, model_path)"
   ]
  },
  {
   "cell_type": "code",
   "execution_count": 8,
   "metadata": {},
   "outputs": [],
   "source": [
    "# Set path to output (metadata)\n",
    "RESULTS_DIR = \"../results/\"\n",
    "train_results_file = 'train_metadata.json'\n",
    "results_path = os.path.join(RESULTS_DIR, train_results_file)\n",
    "\n",
    "# Serialize and save metadata\n",
    "with open(results_path, 'w') as outfile:\n",
    "    json.dump(train_metadata, outfile)"
   ]
  },
  {
   "cell_type": "code",
   "execution_count": null,
   "metadata": {},
   "outputs": [],
   "source": []
  }
 ],
 "metadata": {
  "kernelspec": {
   "display_name": ".venv",
   "language": "python",
   "name": "python3"
  },
  "language_info": {
   "codemirror_mode": {
    "name": "ipython",
    "version": 3
   },
   "file_extension": ".py",
   "mimetype": "text/x-python",
   "name": "python",
   "nbconvert_exporter": "python",
   "pygments_lexer": "ipython3",
   "version": "3.12.2"
  }
 },
 "nbformat": 4,
 "nbformat_minor": 2
}
