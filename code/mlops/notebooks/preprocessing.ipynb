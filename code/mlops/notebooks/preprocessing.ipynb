{
 "cells": [
  {
   "cell_type": "code",
   "execution_count": 1,
   "metadata": {},
   "outputs": [],
   "source": [
    "import os\n",
    "import pandas as pd\n",
    "import numpy as np\n",
    "import matplotlib.pyplot as plt\n",
    "import seaborn as sns\n",
    "from sklearn.model_selection import train_test_split\n",
    "from sklearn.preprocessing import StandardScaler\n",
    "from sklearn.preprocessing import LabelBinarizer\n",
    "from joblib import dump"
   ]
  },
  {
   "cell_type": "code",
   "execution_count": 11,
   "metadata": {},
   "outputs": [
    {
     "data": {
      "text/html": [
       "<div>\n",
       "<style scoped>\n",
       "    .dataframe tbody tr th:only-of-type {\n",
       "        vertical-align: middle;\n",
       "    }\n",
       "\n",
       "    .dataframe tbody tr th {\n",
       "        vertical-align: top;\n",
       "    }\n",
       "\n",
       "    .dataframe thead th {\n",
       "        text-align: right;\n",
       "    }\n",
       "</style>\n",
       "<table border=\"1\" class=\"dataframe\">\n",
       "  <thead>\n",
       "    <tr style=\"text-align: right;\">\n",
       "      <th></th>\n",
       "      <th>Soil Moisture</th>\n",
       "      <th>Temperature</th>\n",
       "      <th>Soil Humidity</th>\n",
       "      <th>Time</th>\n",
       "      <th>Air temperature (C)</th>\n",
       "      <th>Wind speed (Km/h)</th>\n",
       "      <th>Air humidity (%)</th>\n",
       "      <th>Wind gust (Km/h)</th>\n",
       "      <th>Pressure (KPa)</th>\n",
       "      <th>ph</th>\n",
       "      <th>rainfall</th>\n",
       "      <th>N</th>\n",
       "      <th>P</th>\n",
       "      <th>K</th>\n",
       "      <th>Status</th>\n",
       "    </tr>\n",
       "  </thead>\n",
       "  <tbody>\n",
       "    <tr>\n",
       "      <th>0</th>\n",
       "      <td>54</td>\n",
       "      <td>22</td>\n",
       "      <td>70</td>\n",
       "      <td>21</td>\n",
       "      <td>19.52</td>\n",
       "      <td>2.13</td>\n",
       "      <td>55.04</td>\n",
       "      <td>6.30</td>\n",
       "      <td>101.50</td>\n",
       "      <td>6.502985</td>\n",
       "      <td>202.935536</td>\n",
       "      <td>90.0</td>\n",
       "      <td>42.0</td>\n",
       "      <td>43.0</td>\n",
       "      <td>ON</td>\n",
       "    </tr>\n",
       "    <tr>\n",
       "      <th>1</th>\n",
       "      <td>12</td>\n",
       "      <td>20</td>\n",
       "      <td>40</td>\n",
       "      <td>104</td>\n",
       "      <td>19.49</td>\n",
       "      <td>2.01</td>\n",
       "      <td>55.17</td>\n",
       "      <td>10.46</td>\n",
       "      <td>101.50</td>\n",
       "      <td>7.038096</td>\n",
       "      <td>226.655537</td>\n",
       "      <td>85.0</td>\n",
       "      <td>58.0</td>\n",
       "      <td>41.0</td>\n",
       "      <td>OFF</td>\n",
       "    </tr>\n",
       "    <tr>\n",
       "      <th>2</th>\n",
       "      <td>34</td>\n",
       "      <td>26</td>\n",
       "      <td>35</td>\n",
       "      <td>62</td>\n",
       "      <td>19.47</td>\n",
       "      <td>1.90</td>\n",
       "      <td>55.30</td>\n",
       "      <td>14.63</td>\n",
       "      <td>101.51</td>\n",
       "      <td>7.840207</td>\n",
       "      <td>263.964248</td>\n",
       "      <td>60.0</td>\n",
       "      <td>55.0</td>\n",
       "      <td>44.0</td>\n",
       "      <td>ON</td>\n",
       "    </tr>\n",
       "    <tr>\n",
       "      <th>3</th>\n",
       "      <td>7</td>\n",
       "      <td>44</td>\n",
       "      <td>44</td>\n",
       "      <td>93</td>\n",
       "      <td>19.54</td>\n",
       "      <td>2.28</td>\n",
       "      <td>54.20</td>\n",
       "      <td>16.08</td>\n",
       "      <td>101.51</td>\n",
       "      <td>6.980401</td>\n",
       "      <td>242.864034</td>\n",
       "      <td>74.0</td>\n",
       "      <td>35.0</td>\n",
       "      <td>40.0</td>\n",
       "      <td>OFF</td>\n",
       "    </tr>\n",
       "    <tr>\n",
       "      <th>4</th>\n",
       "      <td>50</td>\n",
       "      <td>38</td>\n",
       "      <td>23</td>\n",
       "      <td>92</td>\n",
       "      <td>19.61</td>\n",
       "      <td>2.66</td>\n",
       "      <td>53.09</td>\n",
       "      <td>17.52</td>\n",
       "      <td>101.51</td>\n",
       "      <td>7.628473</td>\n",
       "      <td>262.717340</td>\n",
       "      <td>78.0</td>\n",
       "      <td>42.0</td>\n",
       "      <td>42.0</td>\n",
       "      <td>OFF</td>\n",
       "    </tr>\n",
       "  </tbody>\n",
       "</table>\n",
       "</div>"
      ],
      "text/plain": [
       "   Soil Moisture  Temperature   Soil Humidity  Time  Air temperature (C)  \\\n",
       "0             54           22              70    21                19.52   \n",
       "1             12           20              40   104                19.49   \n",
       "2             34           26              35    62                19.47   \n",
       "3              7           44              44    93                19.54   \n",
       "4             50           38              23    92                19.61   \n",
       "\n",
       "   Wind speed (Km/h)  Air humidity (%)  Wind gust (Km/h)  Pressure (KPa)  \\\n",
       "0               2.13             55.04              6.30          101.50   \n",
       "1               2.01             55.17             10.46          101.50   \n",
       "2               1.90             55.30             14.63          101.51   \n",
       "3               2.28             54.20             16.08          101.51   \n",
       "4               2.66             53.09             17.52          101.51   \n",
       "\n",
       "         ph    rainfall     N     P     K Status  \n",
       "0  6.502985  202.935536  90.0  42.0  43.0     ON  \n",
       "1  7.038096  226.655537  85.0  58.0  41.0    OFF  \n",
       "2  7.840207  263.964248  60.0  55.0  44.0     ON  \n",
       "3  6.980401  242.864034  74.0  35.0  40.0    OFF  \n",
       "4  7.628473  262.717340  78.0  42.0  42.0    OFF  "
      ]
     },
     "execution_count": 11,
     "metadata": {},
     "output_type": "execute_result"
    }
   ],
   "source": [
    "raw_data_path = r\"../data/raw/raw_dataset.csv\"\n",
    "# Read dataset\n",
    "df = pd.read_csv(raw_data_path, sep=\",\")\n",
    "df.head()"
   ]
  },
  {
   "cell_type": "code",
   "execution_count": 12,
   "metadata": {},
   "outputs": [],
   "source": [
    "# Drop irrelevant features \n",
    "L = ['Time','Wind gust (Km/h)','Wind speed (Km/h)', 'Pressure (KPa)','ph','rainfall','N','P','K','Air temperature (C)','Air humidity (%)']\n",
    "df.drop(columns=L,axis=1,inplace=True)"
   ]
  },
  {
   "cell_type": "code",
   "execution_count": 13,
   "metadata": {},
   "outputs": [
    {
     "data": {
      "text/html": [
       "<div>\n",
       "<style scoped>\n",
       "    .dataframe tbody tr th:only-of-type {\n",
       "        vertical-align: middle;\n",
       "    }\n",
       "\n",
       "    .dataframe tbody tr th {\n",
       "        vertical-align: top;\n",
       "    }\n",
       "\n",
       "    .dataframe thead th {\n",
       "        text-align: right;\n",
       "    }\n",
       "</style>\n",
       "<table border=\"1\" class=\"dataframe\">\n",
       "  <thead>\n",
       "    <tr style=\"text-align: right;\">\n",
       "      <th></th>\n",
       "      <th>Soil Moisture</th>\n",
       "      <th>Temperature</th>\n",
       "      <th>Soil Humidity</th>\n",
       "      <th>Status</th>\n",
       "    </tr>\n",
       "  </thead>\n",
       "  <tbody>\n",
       "    <tr>\n",
       "      <th>0</th>\n",
       "      <td>54</td>\n",
       "      <td>22</td>\n",
       "      <td>70</td>\n",
       "      <td>ON</td>\n",
       "    </tr>\n",
       "    <tr>\n",
       "      <th>1</th>\n",
       "      <td>12</td>\n",
       "      <td>20</td>\n",
       "      <td>40</td>\n",
       "      <td>OFF</td>\n",
       "    </tr>\n",
       "    <tr>\n",
       "      <th>2</th>\n",
       "      <td>34</td>\n",
       "      <td>26</td>\n",
       "      <td>35</td>\n",
       "      <td>ON</td>\n",
       "    </tr>\n",
       "    <tr>\n",
       "      <th>3</th>\n",
       "      <td>7</td>\n",
       "      <td>44</td>\n",
       "      <td>44</td>\n",
       "      <td>OFF</td>\n",
       "    </tr>\n",
       "    <tr>\n",
       "      <th>4</th>\n",
       "      <td>50</td>\n",
       "      <td>38</td>\n",
       "      <td>23</td>\n",
       "      <td>OFF</td>\n",
       "    </tr>\n",
       "  </tbody>\n",
       "</table>\n",
       "</div>"
      ],
      "text/plain": [
       "   Soil Moisture  Temperature   Soil Humidity Status\n",
       "0             54           22              70     ON\n",
       "1             12           20              40    OFF\n",
       "2             34           26              35     ON\n",
       "3              7           44              44    OFF\n",
       "4             50           38              23    OFF"
      ]
     },
     "execution_count": 13,
     "metadata": {},
     "output_type": "execute_result"
    }
   ],
   "source": [
    "df.head()"
   ]
  },
  {
   "cell_type": "code",
   "execution_count": 4,
   "metadata": {},
   "outputs": [],
   "source": [
    "#Set 'Status variable to binary\n",
    "encoder = LabelBinarizer()\n",
    "df['Status'] = encoder.fit_transform(df['Status'])"
   ]
  },
  {
   "cell_type": "code",
   "execution_count": 5,
   "metadata": {},
   "outputs": [
    {
     "data": {
      "image/png": "[encoded data removed]",
      "text/plain": [
       "<Figure size 800x500 with 2 Axes>"
      ]
     },
     "metadata": {},
     "output_type": "display_data"
    }
   ],
   "source": [
    "#Data vizualisation\n",
    "plt.figure(figsize=(8, 5))\n",
    "sns.heatmap(data=df.corr(), annot=True, vmin=-1, vmax=1)\n",
    "\n",
    "ax = sns.countplot(x=\"Status\",width= 0.2,data=df)\n",
    "plt.show()\n",
    "\n"
   ]
  },
  {
   "cell_type": "code",
   "execution_count": 6,
   "metadata": {},
   "outputs": [
    {
     "data": {
      "image/png": "[encoded data removed]",
      "text/plain": [
       "<Figure size 500x500 with 1 Axes>"
      ]
     },
     "metadata": {},
     "output_type": "display_data"
    },
    {
     "data": {
      "image/png": "[encoded data removed]",
      "text/plain": [
       "<Figure size 500x500 with 1 Axes>"
      ]
     },
     "metadata": {},
     "output_type": "display_data"
    }
   ],
   "source": [
    "sns.displot(df, x=\"Temperature\", binwidth=3, bins=20, discrete=True, height=5)\n",
    "sns.displot(df, x=\"Soil Moisture\", binwidth=3, bins=20, discrete=True, height=5)\n",
    "plt.show()"
   ]
  },
  {
   "cell_type": "code",
   "execution_count": 7,
   "metadata": {},
   "outputs": [],
   "source": [
    "#Split features and Target variable\n",
    "X=df.drop(columns='Status',axis=1)\n",
    "y=df['Status'].to_frame()"
   ]
  },
  {
   "cell_type": "code",
   "execution_count": 8,
   "metadata": {},
   "outputs": [],
   "source": [
    "#Split features and Target variable\n",
    "X=df.drop(columns='Status',axis=1)\n",
    "y=df['Status'].to_frame()\n",
    "\n",
    "#Scaling data\n",
    "scaler = StandardScaler()\n",
    "X = scaler.fit_transform(X)\n",
    "X=pd.DataFrame(X)\n",
    "\n",
    "data=pd.concat([X,y],axis=1)\n",
    "#Split train and test sets\n",
    "train, test = train_test_split(data, test_size=0.3, stratify=data['Status'])"
   ]
  },
  {
   "cell_type": "code",
   "execution_count": 9,
   "metadata": {},
   "outputs": [
    {
     "data": {
      "text/plain": [
       "['../model/scaler.joblib']"
      ]
     },
     "execution_count": 9,
     "metadata": {},
     "output_type": "execute_result"
    }
   ],
   "source": [
    "# Set path to the outputs\n",
    "MODEL_DIR = \"../model/\"\n",
    "PROCESSED_DATA_DIR = \"../data/processed/\"\n",
    "train_path = PROCESSED_DATA_DIR + 'train.csv'\n",
    "test_path = PROCESSED_DATA_DIR + 'test.csv'\n",
    "scaler_path = MODEL_DIR + 'scaler.joblib'\n",
    "\n",
    "dump(scaler, scaler_path)"
   ]
  },
  {
   "cell_type": "code",
   "execution_count": 10,
   "metadata": {},
   "outputs": [],
   "source": [
    "# Save csv\n",
    "train.to_csv(train_path, index=False)\n",
    "test.to_csv(test_path,  index=False)"
   ]
  },
  {
   "cell_type": "code",
   "execution_count": null,
   "metadata": {},
   "outputs": [],
   "source": []
  }
 ],
 "metadata": {
  "kernelspec": {
   "display_name": ".venv",
   "language": "python",
   "name": "python3"
  },
  "language_info": {
   "codemirror_mode": {
    "name": "ipython",
    "version": 3
   },
   "file_extension": ".py",
   "mimetype": "text/x-python",
   "name": "python",
   "nbconvert_exporter": "python",
   "pygments_lexer": "ipython3",
   "version": "3.12.2"
  }
 },
 "nbformat": 4,
 "nbformat_minor": 2
}
