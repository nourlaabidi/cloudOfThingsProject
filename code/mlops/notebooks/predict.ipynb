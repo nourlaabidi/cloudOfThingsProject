{
 "cells": [
  {
   "cell_type": "code",
   "execution_count": 1,
   "metadata": {},
   "outputs": [],
   "source": [
    "import asyncio\n",
    "import pandas as pd\n",
    "import numpy as np\n",
    "from joblib import load\n",
    "import json\n",
    "import os"
   ]
  },
  {
   "cell_type": "code",
   "execution_count": 40,
   "metadata": {},
   "outputs": [],
   "source": [
    "MODEL_DIR = \"../model/\"\n",
    "# Set path for the input (model)\n",
    "model_file = 'Xgboost_model.joblib'\n",
    "model_path = MODEL_DIR + model_file\n",
    "Xgboost_model = load(model_path)\n",
    "\n",
    "scaler_file = 'scaler.joblib'\n",
    "scaler_path = MODEL_DIR + scaler_file\n",
    "scaler = load(scaler_path)\n"
   ]
  },
  {
   "cell_type": "code",
   "execution_count": 63,
   "metadata": {},
   "outputs": [],
   "source": [
    "def preprocess_input(input_data):\n",
    "    # Découpe la chaîne en liste\n",
    "    my_list = input_data.split(',')\n",
    "    # Convertit les valeurs en float\n",
    "    input_data = [float(value) for value in my_list]\n",
    "    # Crée un DataFrame sans noms de colonnes\n",
    "    df = pd.DataFrame([input_data])\n",
    "    # Applique le scaler\n",
    "    input_data_scaled = scaler.transform(df)\n",
    "    return input_data_scaled\n"
   ]
  },
  {
   "cell_type": "code",
   "execution_count": 64,
   "metadata": {},
   "outputs": [],
   "source": [
    "def predict(input_data_str):\n",
    "    try:\n",
    "        print(f\"Received input data: {input_data_str}\")\n",
    "        # Preprocess the input and make predictions\n",
    "        X = preprocess_input(input_data_str)\n",
    "        print(f\"preprocessed input data: {X}\")\n",
    "        model_predictions = Xgboost_model.predict(X)\n",
    "        pump_status = model_predictions[0]\n",
    "        return pump_status\n",
    "    except Exception as e:\n",
    "        print(f\"Error: {e}\")\n",
    "        \n",
    "\n"
   ]
  },
  {
   "cell_type": "code",
   "execution_count": 69,
   "metadata": {},
   "outputs": [
    {
     "name": "stderr",
     "output_type": "stream",
     "text": [
      "c:\\Users\\Laabi\\OneDrive\\Desktop\\cot\\code\\mlops\\.venv\\Lib\\site-packages\\sklearn\\base.py:493: UserWarning: X does not have valid feature names, but StandardScaler was fitted with feature names\n",
      "  warnings.warn(\n"
     ]
    },
    {
     "name": "stdout",
     "output_type": "stream",
     "text": [
      "Received input data: 44,7,44\n",
      "preprocessed input data: [[-0.05709308 -1.17242207 -0.06904444]]\n",
      "Predicted pump status: 0\n"
     ]
    },
    {
     "name": "stderr",
     "output_type": "stream",
     "text": [
      "c:\\Users\\Laabi\\OneDrive\\Desktop\\cot\\code\\mlops\\.venv\\Lib\\site-packages\\sklearn\\base.py:493: UserWarning: X does not have valid feature names, but StandardScaler was fitted with feature names\n",
      "  warnings.warn(\n"
     ]
    },
    {
     "name": "stdout",
     "output_type": "stream",
     "text": [
      "Received input data: 20,30,8\n",
      "preprocessed input data: [[-0.98038775  0.56325855 -2.51360009]]\n",
      "Predicted pump status: 1\n"
     ]
    }
   ],
   "source": [
    "while True:  # Boucle infinie pour accepter de nouvelles entrées\n",
    "    #input doit etre \"Soil Humidity, Soil Moisture, Temperature\"\n",
    "    input_data_str = input(\"Enter input data (Soil Humidity, Soil Moisture, Temperature): \")\n",
    "    if input_data_str.lower() == 'exit':  # Si l'utilisateur entre 'exit', la boucle se termine\n",
    "        break\n",
    "    result = predict(input_data_str)\n",
    "    print(f\"Predicted pump status: {result}\")"
   ]
  }
 ],
 "metadata": {
  "kernelspec": {
   "display_name": ".venv",
   "language": "python",
   "name": "python3"
  },
  "language_info": {
   "codemirror_mode": {
    "name": "ipython",
    "version": 3
   },
   "file_extension": ".py",
   "mimetype": "text/x-python",
   "name": "python",
   "nbconvert_exporter": "python",
   "pygments_lexer": "ipython3",
   "version": "3.12.2"
  }
 },
 "nbformat": 4,
 "nbformat_minor": 2
}
